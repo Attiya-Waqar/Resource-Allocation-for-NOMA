{
  "cells": [
    {
      "cell_type": "markdown",
      "metadata": {
        "id": "bOkZ5xVf7mRw"
      },
      "source": [
        "1. Install comyx\n",
        "2. Define Simulation Parameters (num_users, channel_model, ...)\n",
        "3. Generate User Profiles\n",
        "4. Simulate NOMA Transmissions\n",
        "5. Format the results\n",
        "6. Save the dataset"
      ]
    },
    {
      "cell_type": "code",
      "execution_count": null,
      "metadata": {
        "colab": {
          "base_uri": "https://localhost:8080/"
        },
        "collapsed": true,
        "id": "0azLYjj97Fhj",
        "outputId": "14768060-ec66-4663-ae85-2e8ef0303369"
      },
      "outputs": [
        {
          "name": "stdout",
          "output_type": "stream",
          "text": [
            "Requirement already satisfied: comyx in /usr/local/lib/python3.11/dist-packages (0.2.5)\n",
            "Requirement already satisfied: numpy>=1.23.5 in /usr/local/lib/python3.11/dist-packages (from comyx) (1.26.4)\n",
            "Requirement already satisfied: numba>=0.54.1 in /usr/local/lib/python3.11/dist-packages (from comyx) (0.60.0)\n",
            "Requirement already satisfied: pandas>=2.0.1 in /usr/local/lib/python3.11/dist-packages (from comyx) (2.2.2)\n",
            "Requirement already satisfied: scipy>=1.11.1 in /usr/local/lib/python3.11/dist-packages (from comyx) (1.13.1)\n",
            "Requirement already satisfied: mpmath>=1.3.0 in /usr/local/lib/python3.11/dist-packages (from comyx) (1.3.0)\n",
            "Requirement already satisfied: colorama>=0.4.6 in /usr/local/lib/python3.11/dist-packages (from comyx) (0.4.6)\n",
            "Requirement already satisfied: matplotlib>=3.5.1 in /usr/local/lib/python3.11/dist-packages (from comyx) (3.10.0)\n",
            "Requirement already satisfied: pyarrow>=14.0.0 in /usr/local/lib/python3.11/dist-packages (from comyx) (18.1.0)\n",
            "Requirement already satisfied: python-box>=7.1.1 in /usr/local/lib/python3.11/dist-packages (from comyx) (7.3.2)\n",
            "Requirement already satisfied: termcolor>=2.4.0 in /usr/local/lib/python3.11/dist-packages (from comyx) (2.5.0)\n",
            "Requirement already satisfied: contourpy>=1.0.1 in /usr/local/lib/python3.11/dist-packages (from matplotlib>=3.5.1->comyx) (1.3.1)\n",
            "Requirement already satisfied: cycler>=0.10 in /usr/local/lib/python3.11/dist-packages (from matplotlib>=3.5.1->comyx) (0.12.1)\n",
            "Requirement already satisfied: fonttools>=4.22.0 in /usr/local/lib/python3.11/dist-packages (from matplotlib>=3.5.1->comyx) (4.56.0)\n",
            "Requirement already satisfied: kiwisolver>=1.3.1 in /usr/local/lib/python3.11/dist-packages (from matplotlib>=3.5.1->comyx) (1.4.8)\n",
            "Requirement already satisfied: packaging>=20.0 in /usr/local/lib/python3.11/dist-packages (from matplotlib>=3.5.1->comyx) (24.2)\n",
            "Requirement already satisfied: pillow>=8 in /usr/local/lib/python3.11/dist-packages (from matplotlib>=3.5.1->comyx) (11.1.0)\n",
            "Requirement already satisfied: pyparsing>=2.3.1 in /usr/local/lib/python3.11/dist-packages (from matplotlib>=3.5.1->comyx) (3.2.1)\n",
            "Requirement already satisfied: python-dateutil>=2.7 in /usr/local/lib/python3.11/dist-packages (from matplotlib>=3.5.1->comyx) (2.8.2)\n",
            "Requirement already satisfied: llvmlite<0.44,>=0.43.0dev0 in /usr/local/lib/python3.11/dist-packages (from numba>=0.54.1->comyx) (0.43.0)\n",
            "Requirement already satisfied: pytz>=2020.1 in /usr/local/lib/python3.11/dist-packages (from pandas>=2.0.1->comyx) (2025.1)\n",
            "Requirement already satisfied: tzdata>=2022.7 in /usr/local/lib/python3.11/dist-packages (from pandas>=2.0.1->comyx) (2025.1)\n",
            "Requirement already satisfied: six>=1.5 in /usr/local/lib/python3.11/dist-packages (from python-dateutil>=2.7->matplotlib>=3.5.1->comyx) (1.17.0)\n",
            "Requirement already satisfied: tqdm in /usr/local/lib/python3.11/dist-packages (4.67.1)\n"
          ]
        }
      ],
      "source": [
        "!pip install comyx\n",
        "!pip install tqdm"
      ]
    },
    {
      "cell_type": "markdown",
      "metadata": {
        "id": "J_adcpff8YCr"
      },
      "source": [
        "#Importing Necessary Libraries"
      ]
    },
    {
      "cell_type": "code",
      "execution_count": null,
      "metadata": {
        "id": "Zxg4PvpR8XW-"
      },
      "outputs": [],
      "source": [
        "from comyx.network import UserEquipment, BaseStation, Link\n",
        "from comyx.propagation import get_noise_power\n",
        "from comyx.utils import dbm2pow, get_distance, generate_seed, db2pow\n",
        "from scipy.optimize import minimize\n",
        "\n",
        "\n",
        "import numpy as np\n",
        "from numba import jit\n",
        "from matplotlib import pyplot as plt"
      ]
    },
    {
      "cell_type": "markdown",
      "metadata": {
        "id": "Qpe38nsw8gVZ"
      },
      "source": [
        "#Setting Up Environment"
      ]
    },
    {
      "cell_type": "code",
      "execution_count": null,
      "metadata": {
        "colab": {
          "base_uri": "https://localhost:8080/"
        },
        "id": "qPqMOhJq8iJy",
        "outputId": "f990b738-3aca-4044-d2b0-66c5914f8977"
      },
      "outputs": [
        {
          "name": "stdout",
          "output_type": "stream",
          "text": [
            "4.1419470000000015e-14\n"
          ]
        }
      ],
      "source": [
        "Pt = np.linspace(-10, 30, 80)  # dBm\n",
        "# Pt = np.array([25]) # dBm\n",
        "Pt_lin = dbm2pow(Pt)  # Watt\n",
        "bandwidth = 1e7  # Bandwidth in Hz\n",
        "frequency = 2.4e9  # Carrier frequency\n",
        "temperature = 300  # Kelvin # 300\n",
        "mc = 1  # Number of channel realizations\n",
        "simulation_area_size = 60  # Size of square area (units) # 60\n",
        "max_distance_bs_ue = 30     # Maximum distance from BS to each UE (units) # 30\n",
        "max_distance_ue_ue = 20      # Maximum distance between UEs (units) # 20\n",
        "min_distance_ue_ue = 10       # Minimum distance between UEs # 10\n",
        "\n",
        "P_c = 1     # circuit power dBm\n",
        "\n",
        "allocation_factors = np.linspace(0.1, 0.3, 200) # All allocation factors for UEn and UEf\n",
        "\n",
        "N0 = get_noise_power(temperature, bandwidth)  # dBm\n",
        "N0_lin = dbm2pow(N0)  # Watt\n",
        "print(N0_lin)\n",
        "\n",
        "R_prime_n = 4.0e-11\n",
        "R_prime_f = 4.0e-11\n",
        "\n",
        "n_antennas = 2\n",
        "\n",
        "fading_args = {\"type\": \"rayleigh\", \"sigma\": 1 / 2}\n",
        "pathloss_args = {\n",
        "    \"type\": \"reference\",\n",
        "    \"alpha\": 3.5, #3.5\n",
        "    \"p0\": 40, # 20\n",
        "    \"frequency\": frequency,\n",
        "}  # p0 is the reference power in dBm"
      ]
    },
    {
      "cell_type": "markdown",
      "metadata": {
        "id": "6SlYOXdN8sQa"
      },
      "source": [
        "#Network Setup"
      ]
    },
    {
      "cell_type": "code",
      "execution_count": null,
      "metadata": {
        "id": "yeLqHA8m9QFf"
      },
      "outputs": [],
      "source": [
        "# Function to check feasibility of generated locations for UEs\n",
        "def is_feasible(bs_position, ue1_position, ue2_position, size_area, max_dist_bs_ue, max_dist_ue_ue, min_dist_ue_ue):\n",
        "    # Check if BS and UEs are within the area bounds\n",
        "    if (abs(bs_position[0]) > size_area / 2 or abs(bs_position[1]) > size_area / 2 or\n",
        "        abs(ue1_position[0]) > size_area / 2 or abs(ue1_position[1]) > size_area / 2 or\n",
        "        abs(ue2_position[0]) > size_area / 2 or abs(ue2_position[1]) > size_area / 2):\n",
        "        return False\n",
        "\n",
        "    # Check distances from BS to UEs\n",
        "    if (get_distance(bs_position, ue1_position) > max_dist_bs_ue or\n",
        "        get_distance(bs_position, ue2_position) > max_dist_bs_ue):\n",
        "        return False\n",
        "\n",
        "    # Check distance between UEs\n",
        "    if get_distance(ue1_position, ue2_position) > max_dist_ue_ue or get_distance(ue1_position, ue2_position) < min_dist_ue_ue:\n",
        "        return False\n",
        "\n",
        "    # ensure UEn is closer to base station that UEf\n",
        "    if get_distance(ue1_position, bs_position) > get_distance(ue2_position, bs_position):\n",
        "        # print(False)\n",
        "        return False\n",
        "\n",
        "    return True"
      ]
    },
    {
      "cell_type": "markdown",
      "metadata": {
        "id": "cMLMpJAX8pTs"
      },
      "source": [
        "#Initialize Links"
      ]
    },
    {
      "cell_type": "code",
      "execution_count": null,
      "metadata": {
        "id": "SSF-lYut8qse"
      },
      "outputs": [],
      "source": [
        "def initialize_links(BS, UEn, UEf):\n",
        "  # Shapes for channels\n",
        "  shape_bu = (n_antennas, n_antennas, mc)\n",
        "\n",
        "  # Links\n",
        "  # fmt: off\n",
        "  link_bs_uen = Link(\n",
        "      BS, UEn,\n",
        "      fading_args, pathloss_args,\n",
        "      shape=shape_bu, seed=generate_seed(\"BS-UEn\"),\n",
        "  )\n",
        "\n",
        "  link_bs_uef = Link(\n",
        "      BS, UEf,\n",
        "      fading_args, pathloss_args,\n",
        "      shape=shape_bu, seed=generate_seed(\"BS-UEf\"),\n",
        "  )\n",
        "\n",
        "  return link_bs_uen, link_bs_uef"
      ]
    },
    {
      "cell_type": "markdown",
      "metadata": {
        "id": "idXXIo8vmhYd"
      },
      "source": [
        "# Initialize Network"
      ]
    },
    {
      "cell_type": "code",
      "execution_count": null,
      "metadata": {
        "id": "M4BbuuFnmj46"
      },
      "outputs": [],
      "source": [
        "# Initialize Setup\n",
        "def initialize():\n",
        "  # Initialize Base Station position\n",
        "  BS = BaseStation(\"BS\", position=[0, 0, 10], n_antennas=n_antennas, t_power=Pt_lin)\n",
        "\n",
        "  # Loop until valid positions for UEn and UEf are found\n",
        "  valid_positions_found = False\n",
        "  channel_difference = False\n",
        "  while not (valid_positions_found and channel_difference):\n",
        "      # Generate random positions for UEn and UEf within specified constraints\n",
        "      UEn_position = [np.random.uniform(-max_distance_bs_ue, max_distance_bs_ue),\n",
        "                      np.random.uniform(-max_distance_bs_ue, max_distance_bs_ue),\n",
        "                      1]\n",
        "\n",
        "      UEf_position = [np.random.uniform(-max_distance_bs_ue, max_distance_bs_ue),\n",
        "                      np.random.uniform(-max_distance_bs_ue, max_distance_bs_ue),\n",
        "                      1]\n",
        "\n",
        "\n",
        "      # Check if all positions are feasible\n",
        "      valid_positions_found = is_feasible(BS.position, UEn_position, UEf_position,\n",
        "                                          simulation_area_size, max_distance_bs_ue, max_distance_ue_ue, min_distance_ue_ue)\n",
        "\n",
        "      # Initialize User Equipments with their feasible positions\n",
        "      UEn = UserEquipment(\"UEn\", position=UEn_position, n_antennas=n_antennas)\n",
        "      UEf = UserEquipment(\"UEf\", position=UEf_position, n_antennas=n_antennas)\n",
        "\n",
        "      # Initialize Links\n",
        "      link_bs_uen, link_bs_uef = initialize_links(BS, UEn, UEf)\n",
        "\n",
        "      # Get channel gains\n",
        "      gain_f = link_bs_uef.magnitude**2\n",
        "      gain_n = link_bs_uen.magnitude**2\n",
        "\n",
        "      # if channel difference exists\n",
        "      # channel_difference =  np.all(gain_n > gain_f)\n",
        "      channel_difference = np.mean(gain_n) > np.mean(gain_f)\n",
        "\n",
        "  return BS, UEn, UEf, link_bs_uen, link_bs_uef, gain_f, gain_n"
      ]
    },
    {
      "cell_type": "markdown",
      "metadata": {
        "id": "pECPGir28ztL"
      },
      "source": [
        "#Compute Rates & Energy Efficiency"
      ]
    },
    {
      "cell_type": "code",
      "execution_count": null,
      "metadata": {
        "id": "6m0D3tMeWLHC"
      },
      "outputs": [],
      "source": [
        "def computeEnergyEfficiency(BS, UEn, UEf, allocation_factors, gain_n, gain_f):\n",
        "    results = []\n",
        "    sample_index = 0\n",
        "\n",
        "    # Looping over each allocation factor\n",
        "    for alloc_UEn in allocation_factors:\n",
        "        alloc_UEf = 1 - alloc_UEn\n",
        "\n",
        "        # Update the power allocations for BS\n",
        "        BS.allocations = {\"UEn\": alloc_UEn, \"UEf\": alloc_UEf}\n",
        "\n",
        "        UEn.sinr_pre = np.zeros((len(Pt), mc))\n",
        "        UEn.sinr = np.zeros((len(Pt), mc))\n",
        "        UEf.sinr = np.zeros((len(Pt), mc))\n",
        "        SE_nf = np.zeros((len(Pt), mc))\n",
        "        SE_n = np.zeros((len(Pt), mc))\n",
        "        SE_f = np.zeros((len(Pt), mc))\n",
        "        SE_total = np.zeros((len(Pt), mc))\n",
        "        R_n = np.zeros((len(Pt), mc))\n",
        "        R_f = np.zeros((len(Pt), mc))\n",
        "        EE = np.zeros((len(Pt), mc))\n",
        "\n",
        "\n",
        "        # Loop over each power level\n",
        "        for i, p in enumerate(Pt_lin):\n",
        "            p = BS.t_power[i]\n",
        "\n",
        "            # Loop over each channel realization\n",
        "            for k in range(mc):\n",
        "                gain_f_scalar = gain_f[0, 0, k]\n",
        "                gain_n_scalar = gain_n[0, 0, k]\n",
        "\n",
        "                # print(gain_f_scalar)\n",
        "\n",
        "\n",
        "                # Effective transmit powers for each user\n",
        "                P_n = BS.allocations[\"UEn\"] * p  # Effective power for near user\n",
        "                P_f = BS.allocations[\"UEf\"] * p  # Effective power for far user\n",
        "\n",
        "                # Computing Rates\n",
        "                R_n[i, k] = P_n * gain_n_scalar  # Data rate for near user (received power)\n",
        "                R_f[i, k] = P_f * gain_f_scalar    # Data rate for far user (received power)\n",
        "\n",
        "                # print(R_n[i,k], R_f[i,k])\n",
        "\n",
        "                if R_n[i, k] < R_prime_n or R_f[i, k] < R_prime_f:\n",
        "                    continue  # Skip this allocation if QoS is not met\n",
        "\n",
        "\n",
        "                sample_index += 1\n",
        "\n",
        "                # Edge user\n",
        "                UEf.sinr[i, k] = (BS.allocations[\"UEf\"] * p * gain_f_scalar) / (\n",
        "                    BS.allocations[\"UEn\"] * p * gain_f_scalar + N0_lin\n",
        "                )\n",
        "\n",
        "                # Center user\n",
        "                UEn.sinr_pre[i, k] = (BS.allocations[\"UEf\"] * p * gain_n_scalar) / (\n",
        "                    BS.allocations[\"UEn\"] * p * gain_n_scalar + N0_lin\n",
        "                )\n",
        "                UEn.sinr[i, k] = (BS.allocations[\"UEn\"] * p * gain_n_scalar) / N0_lin\n",
        "\n",
        "                # Spectral Efficiencies\n",
        "                SE_nf[i, k] = np.log2(1 + UEn.sinr_pre[i, k])\n",
        "                SE_n[i, k] = np.log2(1 + UEn.sinr[i, k])\n",
        "                SE_f[i, k] = np.log2(1 + UEf.sinr[i, k])\n",
        "\n",
        "                # Total spectral efficiency\n",
        "                SE_total[i, k] = SE_n[i, k] + SE_f[i, k]\n",
        "\n",
        "                # Total achievable rate (bits/s)\n",
        "                total_rate = R_n[i, k] + R_f[i, k]\n",
        "\n",
        "                # Total power consumption (transmit power + circuit power)\n",
        "                total_power = p + P_c\n",
        "\n",
        "                # Energy efficiency (bits/Joule)\n",
        "                EE[i, k] = SE_total[i, k] / total_power\n",
        "\n",
        "                # print(\"sinr_n: \", UEn.sinr_pre[i, k])\n",
        "                # print(\"sinr_f: \", UEf.sinr[i, k])\n",
        "                # print(\"SE_n: \", SE_n[i, k])\n",
        "                # print(\"total_power: \", total_power)\n",
        "                # print(\"EE: \", EE[i, k])\n",
        "                # print(\"alloc_UEn: \", BS.allocations[\"UEn\"])\n",
        "                # print(\"alloc_UEf: \", BS.allocations[\"UEf\"])\n",
        "                # print(\"operational power: \", Pt[i])\n",
        "                # print(\"noise: \", N0_lin)\n",
        "                # print(\"gain_n: \", gain_n_scalar)\n",
        "                # print(\"gain_f: \", gain_f_scalar)\n",
        "                # print(\"R_n: \", R_n[i, k])\n",
        "                # print(\"R_f: \", R_f[i, k])\n",
        "                # print(\"p_c: \", P_c)\n",
        "                # print(\"\\n\")\n",
        "\n",
        "        # Finding the optimal transmit power and channel realization for this power-allocation ensuring QoS\n",
        "        max_ee_index = np.unravel_index(np.argmax(EE), EE.shape)\n",
        "        optimal_power_index = max_ee_index[0]\n",
        "        optimal_channel_index = max_ee_index[1]\n",
        "\n",
        "        optimal_power = Pt[optimal_power_index]\n",
        "        max_energy_efficiency = EE[max_ee_index]\n",
        "\n",
        "        # Extract channel realization values for the optimal channel\n",
        "        optimal_gain_f = gain_f[0, 0, optimal_channel_index]\n",
        "        optimal_gain_n = gain_n[0, 0, optimal_channel_index]\n",
        "\n",
        "        # Store results including allocation coefficients and max energy efficiency\n",
        "        results.append({\n",
        "            'sample index': sample_index,\n",
        "            'alloc_UEn': alloc_UEn,\n",
        "            'alloc_UEf': alloc_UEf,\n",
        "            'operational_power': (optimal_power),\n",
        "            \"R_n\": R_n[i, k],\n",
        "            \"R_f\": R_f[i, k],\n",
        "            'max_energy_efficiency': max_energy_efficiency,\n",
        "            'optimal_gain_f': optimal_gain_f,\n",
        "            'optimal_gain_n': optimal_gain_n,\n",
        "            'optimal_channel_index': optimal_channel_index,\n",
        "            'optimal_power_index': optimal_power_index,\n",
        "        })\n",
        "\n",
        "    return results"
      ]
    },
    {
      "cell_type": "markdown",
      "metadata": {
        "id": "pz2kVis5YlCk"
      },
      "source": [
        "# Optimal Channel Realization"
      ]
    },
    {
      "cell_type": "code",
      "execution_count": null,
      "metadata": {
        "id": "xJAkAfYXC2Me"
      },
      "outputs": [],
      "source": [
        "def normalizeEE(results):\n",
        "  min_ee = min(result['max_energy_efficiency'] for result in results)\n",
        "  max_ee = max(result['max_energy_efficiency'] for result in results)\n",
        "\n",
        "  # normalize EE\n",
        "  for result in results:\n",
        "      result['normalized_energy_efficiency'] = (result['max_energy_efficiency'] - min_ee) / (max_ee - min_ee) * 10\n",
        "\n",
        "  return results"
      ]
    },
    {
      "cell_type": "code",
      "execution_count": null,
      "metadata": {
        "id": "a_EQmfXcdj4H"
      },
      "outputs": [],
      "source": [
        "def find_optimal_results(results):\n",
        "  # Initialize an empty list to store the optimal results\n",
        "  optimal_results = []\n",
        "\n",
        "  # Find the entry with the maximum energy efficiency\n",
        "  best_result = max(results, key=lambda x: x['max_energy_efficiency'])\n",
        "\n",
        "  # Append the best result to the optimal_results array\n",
        "  optimal_results.append(best_result)\n",
        "\n",
        "  return optimal_results\n"
      ]
    },
    {
      "cell_type": "code",
      "execution_count": null,
      "metadata": {
        "id": "ECiq4qIJAbr3"
      },
      "outputs": [],
      "source": [
        "# Print the optimal results\n",
        "def print_optimal_results(optimal_results):\n",
        "  for res in optimal_results:\n",
        "      print(f\"Optimal Allocation Factors: UEn={res['alloc_UEn']:.5f}, UEf={res['alloc_UEf']:.5f}\")\n",
        "      print(\"Operational Power:\", res['operational_power'])\n",
        "      print(\"Maximum Energy Efficiency:\", res['max_energy_efficiency'])\n",
        "      print(f\"\\tNormalized Energy Efficiency: {res['normalized_energy_efficiency']:}\")\n",
        "      print(\"Optimal Channel Realization Values:\")\n",
        "      print(\"  Gain for UEf (edge user):\", res['optimal_gain_f'])\n",
        "      print(\"  Gain for UEn (center user):\", res['optimal_gain_n'])"
      ]
    },
    {
      "cell_type": "code",
      "execution_count": null,
      "metadata": {
        "collapsed": true,
        "id": "HjP0tnEABusa"
      },
      "outputs": [],
      "source": [
        "# Print ALL the results\n",
        "def printResults(results):\n",
        "  for idx, res in enumerate(results):\n",
        "      print(f\"Result {idx + 1}:\")\n",
        "      print(f\"\\tAllocation Factors:\")\n",
        "      print(f\"\\t  UEn: {res['alloc_UEn']:}\")\n",
        "      print(f\"\\t  UEf: {res['alloc_UEf']:}\")\n",
        "      print(f\"\\tOperational Power: {res['operational_power']} dBm\")\n",
        "      print(f\"\\tMaximum Energy Efficiency: {res['max_energy_efficiency']:} bps/Hz\")\n",
        "      print(f\"\\tNormalized Energy Efficiency: {res['normalized_energy_efficiency']:}\")\n",
        "      print(f\"\\tOptimal Channel Realization Values:\")\n",
        "      print(f\"\\t  Gain for UEf (edge user): {res['optimal_gain_f']:}\")\n",
        "      print(f\"\\t  Gain for UEn (center user): {res['optimal_gain_n']:}\")\n",
        "      print(\"\\n\" + \"-\" * 40 + \"\\n\")"
      ]
    },
    {
      "cell_type": "markdown",
      "metadata": {
        "id": "GgyC-woyJIQZ"
      },
      "source": [
        "# Running Code\n"
      ]
    },
    {
      "cell_type": "code",
      "execution_count": null,
      "metadata": {
        "colab": {
          "base_uri": "https://localhost:8080/"
        },
        "collapsed": true,
        "id": "4XzAvkH8T4nE",
        "outputId": "71d96f6a-7198-43c9-fd5f-e7eaf9bd13b7"
      },
      "outputs": [
        {
          "output_type": "stream",
          "name": "stderr",
          "text": [
            "  0%|          | 12/50000 [00:02<1:58:01,  7.06it/s]<ipython-input-25-3dcd96b06456>:7: RuntimeWarning: invalid value encountered in scalar divide\n",
            "  result['normalized_energy_efficiency'] = (result['max_energy_efficiency'] - min_ee) / (max_ee - min_ee) * 10\n",
            "100%|██████████| 50000/50000 [1:07:20<00:00, 12.38it/s]\n"
          ]
        }
      ],
      "source": [
        "import json\n",
        "from tqdm import tqdm\n",
        "\n",
        "# Function to write JSON data to a single file\n",
        "def write_json_file(data, filename):\n",
        "    with open(filename, 'w') as json_file:\n",
        "        json.dump(data, json_file, indent=4)\n",
        "\n",
        "# Initialize a list to store all runs' data\n",
        "data = []\n",
        "\n",
        "# Number of rows of data for simulation\n",
        "rows_of_data = 50000\n",
        "\n",
        "# Running for multiple network configurations\n",
        "for i in tqdm(range(rows_of_data)):\n",
        "    # Initialize the setup\n",
        "    BS, UEn, UEf, link_bs_uen, link_bs_uef, gain_f, gain_n = initialize()\n",
        "\n",
        "    # Compute SE for each transmit power for each channel realization for each pair of power_coefficients\n",
        "    results = computeEnergyEfficiency(BS, UEn, UEf, allocation_factors, gain_n, gain_f)\n",
        "\n",
        "    # Normalize results\n",
        "    results = normalizeEE(results)\n",
        "\n",
        "    # Find optimal results\n",
        "    optimal_run_results = find_optimal_results(results)\n",
        "\n",
        "\n",
        "    # Prepare data for this run\n",
        "    run_data = {\n",
        "        \"sample index\": i,\n",
        "        \"channel_arrays\": [\n",
        "            link_bs_uen.magnitude.tolist(),  # Channel matrix values for BS-UEn\n",
        "            link_bs_uef.magnitude.tolist()   # Channel matrix values for BS-UEf\n",
        "        ],\n",
        "        \"transmit_power (Watt)\": BS.t_power.max(),  # Total transmit power of the BS\n",
        "        \"pa_factors_against_that_transmit_power\": [\n",
        "            res['alloc_UEn'] * BS.t_power.max() for res in optimal_run_results  # Power allocated to UEn based on max transmit power\n",
        "        ],\n",
        "        \"optimal_results\": [\n",
        "            {\n",
        "                \"alloc_UEn\": res['alloc_UEn'],\n",
        "                \"alloc_UEf\": res['alloc_UEf'],\n",
        "                \"operational_power\": res['operational_power'],\n",
        "                \"energy_efficiency\": res['max_energy_efficiency'],\n",
        "                \"normalized_energy_efficiency\": res['normalized_energy_efficiency'],\n",
        "                \"channel_gain_f\": res['optimal_gain_f'],\n",
        "                \"channel_gain_n\": res['optimal_gain_n']\n",
        "            }\n",
        "            for res in optimal_run_results  # Loop through optimal results\n",
        "        ]\n",
        "    }\n",
        "\n",
        "    # Append this run's data to the list of all runs' data\n",
        "    data.append(run_data)\n",
        "\n",
        "    # print()\n",
        "    # print_optimal_results(optimal_run_results)\n",
        "\n",
        "# Write all runs' data to a single JSON file at the end of all simulations\n",
        "write_json_file(data, 'EE_data_50K_1.json')\n"
      ]
    },
    {
      "cell_type": "code",
      "execution_count": null,
      "metadata": {
        "id": "c6ZI1gkyG85o",
        "colab": {
          "base_uri": "https://localhost:8080/",
          "height": 34
        },
        "outputId": "5364476e-892e-48f9-cf21-cc7c1b5224f0"
      },
      "outputs": [
        {
          "output_type": "display_data",
          "data": {
            "text/plain": [
              "<IPython.core.display.Javascript object>"
            ],
            "application/javascript": [
              "\n",
              "    async function download(id, filename, size) {\n",
              "      if (!google.colab.kernel.accessAllowed) {\n",
              "        return;\n",
              "      }\n",
              "      const div = document.createElement('div');\n",
              "      const label = document.createElement('label');\n",
              "      label.textContent = `Downloading \"${filename}\": `;\n",
              "      div.appendChild(label);\n",
              "      const progress = document.createElement('progress');\n",
              "      progress.max = size;\n",
              "      div.appendChild(progress);\n",
              "      document.body.appendChild(div);\n",
              "\n",
              "      const buffers = [];\n",
              "      let downloaded = 0;\n",
              "\n",
              "      const channel = await google.colab.kernel.comms.open(id);\n",
              "      // Send a message to notify the kernel that we're ready.\n",
              "      channel.send({})\n",
              "\n",
              "      for await (const message of channel.messages) {\n",
              "        // Send a message to notify the kernel that we're ready.\n",
              "        channel.send({})\n",
              "        if (message.buffers) {\n",
              "          for (const buffer of message.buffers) {\n",
              "            buffers.push(buffer);\n",
              "            downloaded += buffer.byteLength;\n",
              "            progress.value = downloaded;\n",
              "          }\n",
              "        }\n",
              "      }\n",
              "      const blob = new Blob(buffers, {type: 'application/binary'});\n",
              "      const a = document.createElement('a');\n",
              "      a.href = window.URL.createObjectURL(blob);\n",
              "      a.download = filename;\n",
              "      div.appendChild(a);\n",
              "      a.click();\n",
              "      div.remove();\n",
              "    }\n",
              "  "
            ]
          },
          "metadata": {}
        },
        {
          "output_type": "display_data",
          "data": {
            "text/plain": [
              "<IPython.core.display.Javascript object>"
            ],
            "application/javascript": [
              "download(\"download_083b3370-bb8c-4bf2-84be-3084427bbe54\", \"EE_data_50K_5.json\", 78843679)"
            ]
          },
          "metadata": {}
        }
      ],
      "source": [
        "# Download json file\n",
        "from google.colab import files\n",
        "files.download('EE_data_50K_1.json')"
      ]
    },
    {
      "cell_type": "markdown",
      "metadata": {
        "id": "5b-6XvkEfez6"
      },
      "source": [
        "# Archive"
      ]
    },
    {
      "cell_type": "code",
      "execution_count": null,
      "metadata": {
        "id": "Xk5mcWqoPypY"
      },
      "outputs": [],
      "source": [
        "# import numpy as np\n",
        "\n",
        "# def calculate_EE(p_c_lin, N0_lin, alloc_UEn, alloc_UEf, operational_power, channel_gain_f, channel_gain_n):\n",
        "#     \"\"\"\n",
        "#     Calculate Energy Efficiency (EE) given the provided parameters.\n",
        "\n",
        "#     Parameters:\n",
        "#         p_c_lin (float): Circuit power in linear scale (Watts).\n",
        "#         N0_lin (float): Noise power in linear scale.\n",
        "#         alloc_UEn (float): Power allocation factor for the near user.\n",
        "#         alloc_UEf (float): Power allocation factor for the far user.\n",
        "#         operational_power (float): Transmit power in dBm (converted to linear scale inside the function).\n",
        "#         channel_gain_f (float): Channel gain for the far user.\n",
        "#         channel_gain_n (float): Channel gain for the near user.\n",
        "\n",
        "#     Returns:\n",
        "#         float: Energy Efficiency (EE) in bits/Joule.\n",
        "#     \"\"\"\n",
        "#     # Convert dBm to linear scale for operational power\n",
        "#     p_tx = 10 ** (operational_power / 10) / 1000  # Convert dBm to Watts\n",
        "\n",
        "#     # Effective transmit powers for each user\n",
        "#     P_n = alloc_UEn * p_tx  # Effective power for near user\n",
        "#     P_f = alloc_UEf * p_tx  # Effective power for far user\n",
        "\n",
        "#     # Compute SINR for near and far users\n",
        "#     sinr_f = (alloc_UEf * p_tx * channel_gain_f) / (alloc_UEn * p_tx * channel_gain_f + N0_lin)\n",
        "#     sinr_n = (alloc_UEn * p_tx * channel_gain_n) / N0_lin\n",
        "\n",
        "#     # Compute Spectral Efficiencies\n",
        "#     SE_f = np.log2(1 + sinr_f)  # Far user spectral efficiency\n",
        "#     SE_n = np.log2(1 + sinr_n)  # Near user spectral efficiency\n",
        "\n",
        "#     # Total spectral efficiency\n",
        "#     SE_total = SE_n + SE_f\n",
        "\n",
        "#     # Total power consumption (transmit power + circuit power)\n",
        "#     total_power = p_tx + p_c_lin\n",
        "\n",
        "#     # Energy Efficiency (bits/Joule)\n",
        "#     EE = SE_total / total_power\n",
        "\n",
        "#     return EE"
      ]
    },
    {
      "cell_type": "code",
      "execution_count": null,
      "metadata": {
        "id": "Kj8HgdV3P1s8"
      },
      "outputs": [],
      "source": [
        "# calculate_EE(1.0, 4.1419470000000015e-14\n",
        "# , 0.13115577889447236, 0.8688442211055276, 23.417721518987342, 2.0960336981693498e-10, 8.9069054859933e-09)"
      ]
    },
    {
      "cell_type": "code",
      "execution_count": null,
      "metadata": {
        "id": "7AMPPtBpA1Kw"
      },
      "outputs": [],
      "source": [
        "# # Fixing sample indices\n",
        "\n",
        "# import json\n",
        "\n",
        "# # Load the JSON file\n",
        "# def load_json(file_path):\n",
        "#     with open(file_path, 'r') as file:\n",
        "#         return json.load(file)\n",
        "\n",
        "# # Update the \"sample index\" field\n",
        "# def update_sample_index(data):\n",
        "#     for i, entry in enumerate(data):\n",
        "#         entry['sample index'] = i + 1\n",
        "\n",
        "# # Save the updated JSON data\n",
        "# def save_json(data, output_path):\n",
        "#     with open(output_path, 'w') as file:\n",
        "#         json.dump(data, file, indent=4)\n",
        "\n",
        "# # Main function\n",
        "# def main():\n",
        "#     # Load the JSON data\n",
        "#     original_dataset = load_json(\"filtered_150K.json\")\n",
        "\n",
        "#     # Update the \"sample index\" field\n",
        "#     update_sample_index(original_dataset)\n",
        "\n",
        "#     # Save the updated JSON data\n",
        "#     save_json(original_dataset, \"150K_fixed.json\")\n",
        "\n",
        "#     print(\"JSON file updated successfully.\")\n",
        "\n",
        "# # Run the main function\n",
        "# main()\n"
      ]
    },
    {
      "cell_type": "code",
      "execution_count": null,
      "metadata": {
        "id": "zDXhl-5_CHXR"
      },
      "outputs": [],
      "source": [
        "# import json\n",
        "\n",
        "\n",
        "# # Count objects with \"energy_efficiency\" = 0.0\n",
        "# def count_zero_energy_efficiency(data):\n",
        "#     filtered_data = [\n",
        "#         entry for entry in data\n",
        "#         if entry.get('optimal_results', [{}])[0].get('energy_efficiency', None) != 0.0\n",
        "#     ]\n",
        "#     return filtered_data\n",
        "\n",
        "# # Save the updated JSON data\n",
        "# def save_json(data, output_path):\n",
        "#     with open(output_path, 'w') as file:\n",
        "#         json.dump(data, file, indent=4)\n",
        "\n",
        "# # Main function\n",
        "# def main():\n",
        "#     original_dataset = load_json(\"EE_150K.json\")\n",
        "\n",
        "#     # Filter out entries with \"energy_efficiency\" = 0.0\n",
        "#     filtered_data = count_zero_energy_efficiency(original_dataset)\n",
        "\n",
        "#     # Save the updated JSON data\n",
        "#     output_file_name = \"filtered_150K.json\"\n",
        "#     save_json(filtered_data, output_file_name)\n",
        "\n",
        "# # Run the main function\n",
        "# main()\n"
      ]
    }
  ],
  "metadata": {
    "colab": {
      "provenance": []
    },
    "kernelspec": {
      "display_name": "Python 3",
      "name": "python3"
    },
    "language_info": {
      "name": "python"
    }
  },
  "nbformat": 4,
  "nbformat_minor": 0
}