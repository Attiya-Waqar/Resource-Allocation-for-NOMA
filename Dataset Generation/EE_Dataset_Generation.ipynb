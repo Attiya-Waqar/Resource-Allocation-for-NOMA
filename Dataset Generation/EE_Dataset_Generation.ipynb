{
  "nbformat": 4,
  "nbformat_minor": 0,
  "metadata": {
    "colab": {
      "provenance": []
    },
    "kernelspec": {
      "name": "python3",
      "display_name": "Python 3"
    },
    "language_info": {
      "name": "python"
    }
  },
  "cells": [
    {
      "cell_type": "markdown",
      "source": [
        "1. Install comyx\n",
        "2. Define Simulation Parameters (num_users, channel_model, ...)\n",
        "3. Generate User Profiles\n",
        "4. Simulate NOMA Transmissions\n",
        "5. Format the results\n",
        "6. Save the dataset"
      ],
      "metadata": {
        "id": "bOkZ5xVf7mRw"
      }
    },
    {
      "cell_type": "code",
      "source": [
        "!pip install comyx\n",
        "!pip install tqdm"
      ],
      "metadata": {
        "collapsed": true,
        "id": "0azLYjj97Fhj",
        "colab": {
          "base_uri": "https://localhost:8080/"
        },
        "outputId": "5dbc1daf-1b81-4ea1-b9a6-a9b3ca2c5eb7"
      },
      "execution_count": 65,
      "outputs": [
        {
          "output_type": "stream",
          "name": "stdout",
          "text": [
            "Requirement already satisfied: comyx in /usr/local/lib/python3.11/dist-packages (0.2.5)\n",
            "Requirement already satisfied: numpy>=1.23.5 in /usr/local/lib/python3.11/dist-packages (from comyx) (1.26.4)\n",
            "Requirement already satisfied: numba>=0.54.1 in /usr/local/lib/python3.11/dist-packages (from comyx) (0.60.0)\n",
            "Requirement already satisfied: pandas>=2.0.1 in /usr/local/lib/python3.11/dist-packages (from comyx) (2.2.2)\n",
            "Requirement already satisfied: scipy>=1.11.1 in /usr/local/lib/python3.11/dist-packages (from comyx) (1.13.1)\n",
            "Requirement already satisfied: mpmath>=1.3.0 in /usr/local/lib/python3.11/dist-packages (from comyx) (1.3.0)\n",
            "Requirement already satisfied: colorama>=0.4.6 in /usr/local/lib/python3.11/dist-packages (from comyx) (0.4.6)\n",
            "Requirement already satisfied: matplotlib>=3.5.1 in /usr/local/lib/python3.11/dist-packages (from comyx) (3.10.0)\n",
            "Requirement already satisfied: pyarrow>=14.0.0 in /usr/local/lib/python3.11/dist-packages (from comyx) (17.0.0)\n",
            "Requirement already satisfied: python-box>=7.1.1 in /usr/local/lib/python3.11/dist-packages (from comyx) (7.3.2)\n",
            "Requirement already satisfied: termcolor>=2.4.0 in /usr/local/lib/python3.11/dist-packages (from comyx) (2.5.0)\n",
            "Requirement already satisfied: contourpy>=1.0.1 in /usr/local/lib/python3.11/dist-packages (from matplotlib>=3.5.1->comyx) (1.3.1)\n",
            "Requirement already satisfied: cycler>=0.10 in /usr/local/lib/python3.11/dist-packages (from matplotlib>=3.5.1->comyx) (0.12.1)\n",
            "Requirement already satisfied: fonttools>=4.22.0 in /usr/local/lib/python3.11/dist-packages (from matplotlib>=3.5.1->comyx) (4.55.7)\n",
            "Requirement already satisfied: kiwisolver>=1.3.1 in /usr/local/lib/python3.11/dist-packages (from matplotlib>=3.5.1->comyx) (1.4.8)\n",
            "Requirement already satisfied: packaging>=20.0 in /usr/local/lib/python3.11/dist-packages (from matplotlib>=3.5.1->comyx) (24.2)\n",
            "Requirement already satisfied: pillow>=8 in /usr/local/lib/python3.11/dist-packages (from matplotlib>=3.5.1->comyx) (11.1.0)\n",
            "Requirement already satisfied: pyparsing>=2.3.1 in /usr/local/lib/python3.11/dist-packages (from matplotlib>=3.5.1->comyx) (3.2.1)\n",
            "Requirement already satisfied: python-dateutil>=2.7 in /usr/local/lib/python3.11/dist-packages (from matplotlib>=3.5.1->comyx) (2.8.2)\n",
            "Requirement already satisfied: llvmlite<0.44,>=0.43.0dev0 in /usr/local/lib/python3.11/dist-packages (from numba>=0.54.1->comyx) (0.43.0)\n",
            "Requirement already satisfied: pytz>=2020.1 in /usr/local/lib/python3.11/dist-packages (from pandas>=2.0.1->comyx) (2024.2)\n",
            "Requirement already satisfied: tzdata>=2022.7 in /usr/local/lib/python3.11/dist-packages (from pandas>=2.0.1->comyx) (2025.1)\n",
            "Requirement already satisfied: six>=1.5 in /usr/local/lib/python3.11/dist-packages (from python-dateutil>=2.7->matplotlib>=3.5.1->comyx) (1.17.0)\n",
            "Requirement already satisfied: tqdm in /usr/local/lib/python3.11/dist-packages (4.67.1)\n"
          ]
        }
      ]
    },
    {
      "cell_type": "markdown",
      "source": [
        "#Importing Necessary Libraries"
      ],
      "metadata": {
        "id": "J_adcpff8YCr"
      }
    },
    {
      "cell_type": "code",
      "source": [
        "from comyx.network import UserEquipment, BaseStation, Link\n",
        "from comyx.propagation import get_noise_power\n",
        "from comyx.utils import dbm2pow, get_distance, generate_seed, db2pow\n",
        "from scipy.optimize import minimize\n",
        "\n",
        "\n",
        "import numpy as np\n",
        "from numba import jit\n",
        "from matplotlib import pyplot as plt"
      ],
      "metadata": {
        "id": "Zxg4PvpR8XW-"
      },
      "execution_count": 66,
      "outputs": []
    },
    {
      "cell_type": "markdown",
      "source": [
        "#Setting Up Environment"
      ],
      "metadata": {
        "id": "Qpe38nsw8gVZ"
      }
    },
    {
      "cell_type": "code",
      "source": [
        "Pt = np.linspace(-10, 30, 80)  # dBm\n",
        "#Pt = np.array([20]) # dBm\n",
        "Pt_lin = dbm2pow(Pt)  # Watt\n",
        "bandwidth = 1e7  # Bandwidth in Hz\n",
        "frequency = 2.4e9  # Carrier frequency\n",
        "temperature = 300  # Kelvin # 300\n",
        "mc = 3  # Number of channel realizations\n",
        "simulation_area_size = 50  # Size of square area (units)\n",
        "max_distance_bs_ue = 50     # Maximum distance from BS to each UE (units) # 50\n",
        "max_distance_ue_ue = 20      # Maximum distance between UEs (units) # 20\n",
        "# quantization_factor = 0.1  # Quantization factor\n",
        "# num_steps = int(1 / quantization_factor) + 1  # Number of steps\n",
        "P_c = 1     # circuit power dBm\n",
        "\n",
        "# allocation_factors = np.linspace(0.01, 0.49, 1000) # All allocation factors for UEn and UEf\n",
        "allocation_factors = np.linspace(0.01, 0.49, 10) # All allocation factors for UEn and UEf\n",
        "\n",
        "N0 = get_noise_power(temperature, bandwidth)  # dBm\n",
        "N0_lin = dbm2pow(N0)  # Watt\n",
        "\n",
        "R_prime_n = 4.0e-11\n",
        "R_prime_f = 4.0e-11\n",
        "\n",
        "n_antennas = 1\n",
        "\n",
        "fading_args = {\"type\": \"rayleigh\", \"sigma\": 1 / 2}\n",
        "pathloss_args = {\n",
        "    \"type\": \"reference\",\n",
        "    \"alpha\": 3.5, #3.5\n",
        "    \"p0\": 40, # 20\n",
        "    \"frequency\": frequency,\n",
        "}  # p0 is the reference power in dBm"
      ],
      "metadata": {
        "id": "qPqMOhJq8iJy"
      },
      "execution_count": 67,
      "outputs": []
    },
    {
      "cell_type": "markdown",
      "source": [
        "#Network Setup"
      ],
      "metadata": {
        "id": "6SlYOXdN8sQa"
      }
    },
    {
      "cell_type": "code",
      "source": [
        "# Function to check feasibility of generated locations for UEs\n",
        "def is_feasible(bs_position, ue1_position, ue2_position, size_area, max_dist_bs_ue, max_dist_ue_ue):\n",
        "    # Check if BS and UEs are within the area bounds\n",
        "    if (abs(bs_position[0]) > size_area / 2 or abs(bs_position[1]) > size_area / 2 or\n",
        "        abs(ue1_position[0]) > size_area / 2 or abs(ue1_position[1]) > size_area / 2 or\n",
        "        abs(ue2_position[0]) > size_area / 2 or abs(ue2_position[1]) > size_area / 2):\n",
        "        return False\n",
        "\n",
        "    # Check distances from BS to UEs\n",
        "    if (get_distance(bs_position, ue1_position) > max_dist_bs_ue or\n",
        "        get_distance(bs_position, ue2_position) > max_dist_bs_ue):\n",
        "        return False\n",
        "\n",
        "    # Check distance between UEs\n",
        "    if get_distance(ue1_position, ue2_position) > max_dist_ue_ue:\n",
        "        return False\n",
        "\n",
        "\n",
        "    #print(get_distance(bs_position, ue1_position) , get_distance(bs_position, ue2_position))\n",
        "\n",
        "    return True\n",
        "\n",
        "# Initialize Setup\n",
        "def initialize():\n",
        "  # Initialize Base Station position\n",
        "  BS = BaseStation(\"BS\", position=[0, 0, 10], n_antennas=n_antennas, t_power=Pt_lin)\n",
        "\n",
        "  # Loop until valid positions for UEn and UEf are found\n",
        "  valid_positions_found = False\n",
        "  while not valid_positions_found:\n",
        "      # Generate random positions for UEn and UEf within specified constraints\n",
        "      UEn_position = [np.random.uniform(-max_distance_bs_ue, max_distance_bs_ue),\n",
        "                      np.random.uniform(-max_distance_bs_ue, max_distance_bs_ue),\n",
        "                      1]\n",
        "\n",
        "      UEf_position = [np.random.uniform(-max_distance_bs_ue, max_distance_bs_ue),\n",
        "                      np.random.uniform(-max_distance_bs_ue, max_distance_bs_ue),\n",
        "                      1]\n",
        "\n",
        "\n",
        "      # Check if all positions are feasible\n",
        "      valid_positions_found = is_feasible(BS.position, UEn_position, UEf_position,\n",
        "                                          simulation_area_size, max_distance_bs_ue, max_distance_ue_ue)\n",
        "\n",
        "  # Initialize User Equipments with their feasible positions\n",
        "  UEn = UserEquipment(\"UEn\", position=UEn_position, n_antennas=n_antennas)\n",
        "  UEf = UserEquipment(\"UEf\", position=UEf_position, n_antennas=n_antennas)\n",
        "\n",
        "  return BS, UEn, UEf"
      ],
      "metadata": {
        "id": "yeLqHA8m9QFf"
      },
      "execution_count": 68,
      "outputs": []
    },
    {
      "cell_type": "markdown",
      "source": [
        "#Initialize Links"
      ],
      "metadata": {
        "id": "cMLMpJAX8pTs"
      }
    },
    {
      "cell_type": "code",
      "source": [
        "def initialize_links(BS, UEn, UEf):\n",
        "  # Shapes for channels\n",
        "  shape_bu = (n_antennas, n_antennas, mc)\n",
        "\n",
        "  # Links\n",
        "  # fmt: off\n",
        "  link_bs_uen = Link(\n",
        "      BS, UEn,\n",
        "      fading_args, pathloss_args,\n",
        "      shape=shape_bu, seed=generate_seed(\"BS-UEn\"),\n",
        "  )\n",
        "\n",
        "  link_bs_uef = Link(\n",
        "      BS, UEf,\n",
        "      fading_args, pathloss_args,\n",
        "      shape=shape_bu, seed=generate_seed(\"BS-UEf\"),\n",
        "  )\n",
        "\n",
        "  return link_bs_uen, link_bs_uef"
      ],
      "metadata": {
        "id": "SSF-lYut8qse"
      },
      "execution_count": 69,
      "outputs": []
    },
    {
      "cell_type": "markdown",
      "source": [
        "#Compute Rates & Energy Efficiency"
      ],
      "metadata": {
        "id": "pECPGir28ztL"
      }
    },
    {
      "cell_type": "code",
      "source": [
        "def computeEnergyEfficiency(BS, UEn, UEf, allocation_factors, link_bs_uen, link_bs_uef):\n",
        "    results = []\n",
        "    sample_index = 0\n",
        "\n",
        "    # Circuit power (assumed constant, in watts)\n",
        "    P_c = 1.0  # Adjust this value based on your system's circuit power consumption\n",
        "\n",
        "    # Looping over each allocation factor\n",
        "    for alloc_UEn in allocation_factors:\n",
        "        alloc_UEf = 1 - alloc_UEn\n",
        "\n",
        "        # Update the power allocations for BS\n",
        "        BS.allocations = {\"UEn\": alloc_UEn, \"UEf\": alloc_UEf}\n",
        "\n",
        "        UEn.sinr_pre = np.zeros((len(Pt), mc))\n",
        "        UEn.sinr = np.zeros((len(Pt), mc))\n",
        "        UEf.sinr = np.zeros((len(Pt), mc))\n",
        "        SE_nf = np.zeros((len(Pt), mc))\n",
        "        SE_n = np.zeros((len(Pt), mc))\n",
        "        SE_f = np.zeros((len(Pt), mc))\n",
        "        SE_total = np.zeros((len(Pt), mc))\n",
        "        R_n = np.zeros((len(Pt), mc))\n",
        "        R_f = np.zeros((len(Pt), mc))\n",
        "        EE = np.zeros((len(Pt), mc))\n",
        "\n",
        "        # Get channel gains\n",
        "        gain_f = link_bs_uef.magnitude**2\n",
        "        gain_n = link_bs_uen.magnitude**2\n",
        "\n",
        "        # Loop over each power level\n",
        "        for i, p in enumerate(Pt_lin):\n",
        "            p = BS.t_power[i]\n",
        "\n",
        "            # Loop over each channel realization\n",
        "            for k in range(mc):\n",
        "                gain_f_scalar = gain_f[0, 0, k]\n",
        "                gain_n_scalar = gain_n[0, 0, k]\n",
        "\n",
        "                # Effective transmit powers for each user\n",
        "                P_n = BS.allocations[\"UEn\"] * p  # Effective power for near user\n",
        "                P_f = BS.allocations[\"UEf\"] * p  # Effective power for far user\n",
        "\n",
        "                # Computing Rates\n",
        "                R_n[i, k] = P_n * gain_n_scalar  # Data rate for near user (received power)\n",
        "                R_f[i, k] = P_f * gain_f_scalar    # Data rate for far user (received power)\n",
        "\n",
        "                # print(R_n[i,k], R_f[i,k])\n",
        "\n",
        "                if R_n[i, k] < R_prime_n or R_f[i, k] < R_prime_f:\n",
        "                    continue  # Skip this allocation if QoS is not met\n",
        "\n",
        "\n",
        "                sample_index += 1\n",
        "\n",
        "                # Edge user\n",
        "                UEf.sinr[i, k] = (BS.allocations[\"UEf\"] * p * gain_f_scalar) / (\n",
        "                    BS.allocations[\"UEn\"] * p * gain_f_scalar + N0_lin\n",
        "                )\n",
        "\n",
        "                # Center user\n",
        "                UEn.sinr_pre[i, k] = (BS.allocations[\"UEf\"] * p * gain_n_scalar) / (\n",
        "                    BS.allocations[\"UEn\"] * p * gain_n_scalar + N0_lin\n",
        "                )\n",
        "                UEn.sinr[i, k] = (BS.allocations[\"UEn\"] * p * gain_n_scalar) / N0_lin\n",
        "\n",
        "                # Spectral Efficiencies\n",
        "                SE_nf[i, k] = np.log2(1 + UEn.sinr_pre[i, k])\n",
        "                SE_n[i, k] = np.log2(1 + UEn.sinr[i, k])\n",
        "                SE_f[i, k] = np.log2(1 + UEf.sinr[i, k])\n",
        "\n",
        "                # Total spectral efficiency\n",
        "                SE_total[i, k] = SE_n[i, k] + SE_f[i, k]\n",
        "\n",
        "                # Total achievable rate (bits/s)\n",
        "                total_rate = R_n[i, k] + R_f[i, k]\n",
        "\n",
        "                # Total power consumption (transmit power + circuit power)\n",
        "                total_power = p + P_c\n",
        "\n",
        "                # Energy efficiency (bits/Joule)\n",
        "                EE[i, k] = SE_total[i, k] / total_power\n",
        "\n",
        "        # Finding the optimal transmit power and channel realization for this power-allocation ensuring QoS\n",
        "        max_ee_index = np.unravel_index(np.argmax(EE), EE.shape)\n",
        "        optimal_power_index = max_ee_index[0]\n",
        "        optimal_channel_index = max_ee_index[1]\n",
        "\n",
        "        optimal_power = Pt[optimal_power_index]\n",
        "        max_energy_efficiency = EE[max_ee_index]\n",
        "\n",
        "        # Extract channel realization values for the optimal channel\n",
        "        optimal_gain_f = gain_f[0, 0, optimal_channel_index]\n",
        "        optimal_gain_n = gain_n[0, 0, optimal_channel_index]\n",
        "\n",
        "        # Store results including allocation coefficients and max energy efficiency\n",
        "        results.append({\n",
        "            'sample index': sample_index,\n",
        "            'alloc_UEn': alloc_UEn,\n",
        "            'alloc_UEf': alloc_UEf,\n",
        "            'operational_power': int(optimal_power),\n",
        "            \"R_n\": R_n[i, k],\n",
        "            \"R_f\": R_f[i, k],\n",
        "            'max_energy_efficiency': max_energy_efficiency,\n",
        "            'optimal_gain_f': optimal_gain_f,\n",
        "            'optimal_gain_n': optimal_gain_n,\n",
        "            'optimal_channel_index': optimal_channel_index,\n",
        "            'optimal_power_index': optimal_power_index,\n",
        "        })\n",
        "\n",
        "    return results"
      ],
      "metadata": {
        "id": "6m0D3tMeWLHC"
      },
      "execution_count": 70,
      "outputs": []
    },
    {
      "cell_type": "markdown",
      "source": [
        "# Optimal Channel Realization"
      ],
      "metadata": {
        "id": "pz2kVis5YlCk"
      }
    },
    {
      "cell_type": "code",
      "source": [
        "def normalizeEE(results):\n",
        "  min_ee = min(result['max_energy_efficiency'] for result in results)\n",
        "  max_ee = max(result['max_energy_efficiency'] for result in results)\n",
        "\n",
        "  # normalize EE\n",
        "  for result in results:\n",
        "      result['normalized_energy_efficiency'] = (result['max_energy_efficiency'] - min_ee) / (max_ee - min_ee) * 10\n",
        "\n",
        "  return results"
      ],
      "metadata": {
        "id": "xJAkAfYXC2Me"
      },
      "execution_count": 71,
      "outputs": []
    },
    {
      "cell_type": "code",
      "source": [
        "def find_optimal_results(results):\n",
        "  # Initialize an empty list to store the optimal results\n",
        "  optimal_results = []\n",
        "\n",
        "  # Find the entry with the maximum energy efficiency\n",
        "  best_result = max(results, key=lambda x: x['max_energy_efficiency'])\n",
        "\n",
        "  # Append the best result to the optimal_results array\n",
        "  optimal_results.append(best_result)\n",
        "\n",
        "  return optimal_results\n"
      ],
      "metadata": {
        "id": "a_EQmfXcdj4H"
      },
      "execution_count": 72,
      "outputs": []
    },
    {
      "cell_type": "code",
      "source": [
        "# Print the optimal results\n",
        "def print_optimal_results(optimal_results):\n",
        "  for res in optimal_results:\n",
        "      print(f\"Optimal Allocation Factors: UEn={res['alloc_UEn']:.5f}, UEf={res['alloc_UEf']:.5f}\")\n",
        "      print(\"Operational Power:\", res['operational_power'])\n",
        "      print(\"Maximum Energy Efficiency:\", res['max_energy_efficiency'])\n",
        "      print(f\"\\tNormalized Energy Efficiency: {res['normalized_energy_efficiency']:}\")\n",
        "      print(\"Optimal Channel Realization Values:\")\n",
        "      print(\"  Gain for UEf (edge user):\", res['optimal_gain_f'])\n",
        "      print(\"  Gain for UEn (center user):\", res['optimal_gain_n'])"
      ],
      "metadata": {
        "id": "ECiq4qIJAbr3"
      },
      "execution_count": 73,
      "outputs": []
    },
    {
      "cell_type": "code",
      "source": [
        "# def find_optimal_results_two(results):\n",
        "#     # Now find which power coefficients give the optimal transmit power\n",
        "#     optimal_results = []\n",
        "#     max_ee = max(result['max_energy_efficiency'] for result in results)\n",
        "#     for result in results:\n",
        "#         if np.isclose(result['max_energy_efficiency'], max_ee, atol=1e-10):\n",
        "#             optimal_results.append(result)\n",
        "#             break  # Stop after finding the first optimal result\n",
        "\n",
        "#     return optimal_results\n"
      ],
      "metadata": {
        "id": "6e3WRfAtRV8n"
      },
      "execution_count": 74,
      "outputs": []
    },
    {
      "cell_type": "code",
      "source": [
        "# Print ALL the results\n",
        "def printResults(results):\n",
        "  for idx, res in enumerate(results):\n",
        "      print(f\"Result {idx + 1}:\")\n",
        "      print(f\"\\tAllocation Factors:\")\n",
        "      print(f\"\\t  UEn: {res['alloc_UEn']:}\")\n",
        "      print(f\"\\t  UEf: {res['alloc_UEf']:}\")\n",
        "      print(f\"\\tOperational Power: {res['operational_power']} dBm\")\n",
        "      print(f\"\\tMaximum Energy Efficiency: {res['max_energy_efficiency']:} bps/Hz\")\n",
        "      print(f\"\\tNormalized Energy Efficiency: {res['normalized_energy_efficiency']:}\")\n",
        "      print(f\"\\tOptimal Channel Realization Values:\")\n",
        "      print(f\"\\t  Gain for UEf (edge user): {res['optimal_gain_f']:}\")\n",
        "      print(f\"\\t  Gain for UEn (center user): {res['optimal_gain_n']:}\")\n",
        "      print(\"\\n\" + \"-\" * 40 + \"\\n\")"
      ],
      "metadata": {
        "collapsed": true,
        "id": "HjP0tnEABusa"
      },
      "execution_count": 75,
      "outputs": []
    },
    {
      "cell_type": "markdown",
      "source": [
        "# Running Code\n"
      ],
      "metadata": {
        "id": "GgyC-woyJIQZ"
      }
    },
    {
      "cell_type": "code",
      "source": [
        "import json\n",
        "from tqdm import tqdm\n",
        "\n",
        "# Function to write JSON data to a single file\n",
        "def write_json_file(data, filename):\n",
        "    with open(filename, 'w') as json_file:\n",
        "        json.dump(data, json_file, indent=4)\n",
        "\n",
        "# Initialize a list to store all runs' data\n",
        "data = []\n",
        "\n",
        "# Number of rows of data for simulation\n",
        "rows_of_data = 1000000\n",
        "\n",
        "# Running for multiple network configurations\n",
        "for i in tqdm(range(rows_of_data)):\n",
        "    # Initialize the setup\n",
        "    BS, UEn, UEf = initialize()\n",
        "\n",
        "    # Initialize Links\n",
        "    link_bs_uen, link_bs_uef = initialize_links(BS, UEn, UEf)\n",
        "\n",
        "    # Compute SE for each transmit power for each channel realization for each pair of power_coefficients\n",
        "    results = computeEnergyEfficiency(BS, UEn, UEf, allocation_factors, link_bs_uen, link_bs_uef)\n",
        "\n",
        "    # Normalize results\n",
        "    results = normalizeEE(results)\n",
        "\n",
        "    # Find optimal results\n",
        "    optimal_run_results = find_optimal_results(results)\n",
        "\n",
        "\n",
        "    # Prepare data for this run\n",
        "    run_data = {\n",
        "        \"sample index\": i,\n",
        "        \"channel_arrays\": [\n",
        "            link_bs_uen.magnitude.tolist(),  # Channel matrix values for BS-UEn\n",
        "            link_bs_uef.magnitude.tolist()   # Channel matrix values for BS-UEf\n",
        "        ],\n",
        "        \"transmit_power (Watt)\": BS.t_power.max(),  # Total transmit power of the BS\n",
        "        \"pa_factors_against_that_transmit_power\": [\n",
        "            res['alloc_UEn'] * BS.t_power.max() for res in optimal_run_results  # Power allocated to UEn based on max transmit power\n",
        "        ],\n",
        "        \"optimal_results\": [\n",
        "            {\n",
        "                \"alloc_UEn\": res['alloc_UEn'],\n",
        "                \"alloc_UEf\": res['alloc_UEf'],\n",
        "                \"operational_power\": res['operational_power'],\n",
        "                \"energy_efficiency\": res['max_energy_efficiency'],\n",
        "                \"normalized_energy_efficiency\": res['normalized_energy_efficiency'],\n",
        "                \"channel_gain_f\": res['optimal_gain_f'],\n",
        "                \"channel_gain_n\": res['optimal_gain_n']\n",
        "            }\n",
        "            for res in optimal_run_results  # Loop through optimal results\n",
        "        ]\n",
        "    }\n",
        "\n",
        "    # Append this run's data to the list of all runs' data\n",
        "    data.append(run_data)\n",
        "\n",
        "    # TESTING\n",
        "    # printResults(results)\n",
        "    # results1 = find_optimal_results_two(results)\n",
        "    # print(\"RESULT1\" + \"\\n\")\n",
        "    # print(results1)\n",
        "    # print(\"\\nRESULT2\")\n",
        "    # printResults(results)\n",
        "\n",
        "# Write all runs' data to a single JSON file at the end of all simulations\n",
        "write_json_file(data, 'EE_data.json')\n"
      ],
      "metadata": {
        "id": "4XzAvkH8T4nE",
        "collapsed": true,
        "colab": {
          "base_uri": "https://localhost:8080/"
        },
        "outputId": "d98fb41f-4ea3-4153-ebc3-c932a9c88e17"
      },
      "execution_count": null,
      "outputs": [
        {
          "output_type": "stream",
          "name": "stderr",
          "text": [
            " 13%|█▎        | 134523/1000000 [25:46<2:21:43, 101.78it/s]"
          ]
        }
      ]
    },
    {
      "cell_type": "code",
      "source": [
        "# Download json file\n",
        "from google.colab import files\n",
        "files.download('EE_data.json')"
      ],
      "metadata": {
        "id": "c6ZI1gkyG85o"
      },
      "execution_count": null,
      "outputs": []
    },
    {
      "cell_type": "code",
      "source": [],
      "metadata": {
        "id": "8bYSXc4XRsdC"
      },
      "execution_count": 77,
      "outputs": []
    }
  ]
}